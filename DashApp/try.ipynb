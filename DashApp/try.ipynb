       "    .dataframe tbody tr th:only-of-type {\n",
